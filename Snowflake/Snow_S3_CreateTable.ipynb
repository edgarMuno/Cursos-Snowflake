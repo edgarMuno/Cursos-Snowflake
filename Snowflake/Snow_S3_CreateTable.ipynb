{
 "cells": [
  {
   "cell_type": "markdown",
   "id": "34d48504-cf38-4841-8301-89a83d31bd2c",
   "metadata": {},
   "source": [
    "# Python: Snowflake & S3 -Crear una Tabla-"
   ]
  },
  {
   "cell_type": "markdown",
   "id": "b5898de4-0430-43ec-9e74-7fed6bd5be8e",
   "metadata": {},
   "source": [
    "### Edgar M"
   ]
  },
  {
   "cell_type": "markdown",
   "id": "f89af9a7-8a35-49f2-9039-a329b5053947",
   "metadata": {},
   "source": [
    "## Introduccion"
   ]
  },
  {
   "cell_type": "markdown",
   "id": "3529e060-62fd-45ec-9edb-314c00528aa4",
   "metadata": {},
   "source": [
    "\n",
    "### Snowflake puede directamente crear tablas e importar la data desde S3, pero para crear la tabla se debe conocer la esctrutura del archivo, es decir se debe crear la tabla a mano. No se puede crear la tabla directamente desde la lectura del archivo desde S3 es decir no se puede hacer un select * into table_name from @S3_stage. \n",
    "### Lo que se pretende con este script es poder crear la tabla de forma dinamica, solo leyendo la cabecera del archivo.\n",
    "### En el siguiente diagrama se prensenta la arquitectura que se utilizara para crear una tabla en Snowflake desde un archivo alojado en S3.\n",
    "#### (Las bases y los esquemas en snowflake ya deben estar creados)"
   ]
  },
  {
   "attachments": {},
   "cell_type": "markdown",
   "id": "b53ae621-7018-4e66-b3ab-afd7ea196886",
   "metadata": {},
   "source": [
    "![Mi Imagen](snowflake.png)"
   ]
  },
  {
   "cell_type": "markdown",
   "id": "78505e57-44df-4d25-a183-e7152efe86fa",
   "metadata": {},
   "source": [
    "# Dependencias"
   ]
  },
  {
   "cell_type": "code",
   "execution_count": null,
   "id": "4ffeaede-aa2d-4107-a096-beae117b072e",
   "metadata": {},
   "outputs": [],
   "source": [
    "!pip install boto3\n",
    "!pip install snowflake-connector-python"
   ]
  },
  {
   "cell_type": "code",
   "execution_count": null,
   "id": "332b70b7-1696-4ac3-9b66-c5817d2ae260",
   "metadata": {},
   "outputs": [],
   "source": [
    "from snowflake.connector.pandas_tools import write_pandas\n",
    "import pandas as pd\n",
    "import snowflake.connector\n",
    "import boto3\n",
    "from io import BytesIO\n",
    "from botocore.exceptions import ClientError"
   ]
  },
  {
   "cell_type": "markdown",
   "id": "1f1405ae-68f1-465b-9cc6-3257831ed3c5",
   "metadata": {},
   "source": [
    "# Conexion a S3 y Armado de la trama"
   ]
  },
  {
   "cell_type": "markdown",
   "id": "af0c22f8-e951-4220-bec7-47ca6b55cf3c",
   "metadata": {},
   "source": [
    "### Las varibles de interes son el nombre del bucket y el nombre del archivo (recuerda que para los procesos de python con AWS, debes de tener configurado el AWS CLI con tus credenciales el en tu equipo)"
   ]
  },
  {
   "cell_type": "code",
   "execution_count": null,
   "id": "997ce750-64b3-4464-8171-3276a78153df",
   "metadata": {},
   "outputs": [],
   "source": [
    "bucket_name = 'bucket'\n",
    "file_key = 'Credit_Card_Customer_Data.csv'\n",
    "table_name=\"OUR_FIRST_DB.PUBLIC.Credit_Card_Customer_Data\""
   ]
  },
  {
   "cell_type": "markdown",
   "id": "66d1f59b-5274-43b6-9fd6-71d3961889f9",
   "metadata": {},
   "source": [
    "### Definimos una funcion que realizara la descargar solo de los primeros bytes del archivo y el armado de la trama para crear la tabla\n"
   ]
  },
  {
   "cell_type": "code",
   "execution_count": null,
   "id": "aeb6dbc8-69b4-4c68-933b-76708b836320",
   "metadata": {},
   "outputs": [],
   "source": [
    "def s3_exe(bucket,file,table_n):\n",
    "    # Configura el cliente S3 con la región 'sa-east-1'\n",
    "    s3 = boto3.client('s3', region_name='sa-east-1')\n",
    "    # Descargar solo los primeros bytes del archivo\n",
    "    response = s3.get_object(Bucket=bucket, Key=file, Range='bytes=0-1024')\n",
    "    # Leer solo el encabezado (primera fila) del archivo CSV\n",
    "    df = pd.read_csv(BytesIO(response['Body'].read()), nrows=0)\n",
    "\n",
    "    # Mostrar las columnas del archivo\n",
    "    tabla=\"\"\n",
    "    #print(df.dtypes)\n",
    "    for i in df.columns:\n",
    "        tabla=tabla+i.replace(\" \",\"_\")+' VARCHAR(30),'\n",
    "    #definir nombre de la tabla\n",
    "    \n",
    "    create=\"\"\"\n",
    "    CREATE OR REPLACE TABLE $table_name(\n",
    "    \"\"\"\n",
    "    create=create+tabla[:len(tabla)-1]+\");\"\n",
    "    #agregar el nombre de la tabla\n",
    "    create=create.replace(\"$table_name\",table_n)\n",
    "    print(create)\n",
    "    return create"
   ]
  },
  {
   "cell_type": "markdown",
   "id": "d92bb314-806b-48ae-8c8f-0cd903c43b87",
   "metadata": {},
   "source": [
    "## Conexion con snowflake"
   ]
  },
  {
   "cell_type": "markdown",
   "id": "f259362a-a816-49f4-8c7d-86bf66c99b4d",
   "metadata": {},
   "source": [
    "### Una vez que ya tenemo el query de la creacion de la tabla, necesitamos enviar ese query a Snowflake. Para lo cual definimos una funcion que realiza la conexion y envio de querys"
   ]
  },
  {
   "cell_type": "markdown",
   "id": "832c46f9-0f04-4bbc-9e0b-064de863dd8e",
   "metadata": {},
   "source": [
    "### Las credenciales las debes obtener de la cuenta que tiene en Snowflake que tiene un trial de 30 dias"
   ]
  },
  {
   "cell_type": "code",
   "execution_count": null,
   "id": "c1c7d891-a8d4-4d80-835b-c0040d0c2747",
   "metadata": {},
   "outputs": [],
   "source": [
    "def snoflak(query):\n",
    "    # Conexión a Snowflake\n",
    "    conn = snowflake.connector.connect(\n",
    "        user='user',\n",
    "        password='***.',\n",
    "        account='sjbpirq-****',\n",
    "        warehouse='COMPUTE_WH',\n",
    "        database='OUR_FIRST_DB',\n",
    "        schema='PUBLIC'\n",
    "    )\n",
    "    # Crear un cursor\n",
    "    cursor = conn.cursor()\n",
    "\n",
    "    try:\n",
    "        # Ejecutar una consulta SQL\n",
    "        cursor.execute(query)\n",
    "\n",
    "        # Imprimir los resultados\n",
    "        for row in cursor:\n",
    "            print(row)\n",
    "# cerrar el cursor\n",
    "    finally:\n",
    "        cursor.close()\n",
    "        conn.close()\n"
   ]
  },
  {
   "cell_type": "markdown",
   "id": "013ad88a-cb72-4914-b2bd-c394945b02d4",
   "metadata": {},
   "source": [
    "## Creamos la tabla"
   ]
  },
  {
   "cell_type": "code",
   "execution_count": null,
   "id": "b3f29a93-c7bb-4071-a44e-f67523d0e55c",
   "metadata": {},
   "outputs": [],
   "source": [
    "# enviar el query para que la tabla sea creada\n",
    "query=s3_exe(bucket_name,file_key,table_name)\n",
    "snoflak(query)\n"
   ]
  },
  {
   "cell_type": "markdown",
   "id": "638d6404-2e87-4846-88dd-d9881e2a3659",
   "metadata": {},
   "source": [
    "## Cargar los datos en la nueva tabla"
   ]
  },
  {
   "cell_type": "markdown",
   "id": "64d4733b-f3df-4ca5-b338-a7c49464660c",
   "metadata": {},
   "source": [
    "### Primero debemos crear un Stage externo en Snowflake que estara enlazado a nuestro bucket"
   ]
  },
  {
   "cell_type": "markdown",
   "id": "47761683-2baf-4cd9-b09e-87602b334c89",
   "metadata": {},
   "source": [
    "### Las creadenciales del bucket para crear el stage en snowflake deben ser ingresados dentros de la consulta. Tambien se puede configurar para snowflake se registre a nuestro bucket por defecto, pero para este ejercicio lo vamos a configurar en el query "
   ]
  },
  {
   "cell_type": "code",
   "execution_count": null,
   "id": "9e107a61-be34-471d-afd0-347257091137",
   "metadata": {},
   "outputs": [],
   "source": [
    "# creamos una funcio que arme la trama para la creacion de un stage \n",
    "\n",
    "def crear_stage_ext(stage_l,bucket_n):\n",
    "        # Crear una sesión de Boto3\n",
    "    session = boto3.Session()\n",
    "    # Obtener las credenciales actuales\n",
    "    credentials = session.get_credentials()\n",
    "    try:\n",
    "    # Acceder a las credenciales\n",
    "        current_credentials = credentials.get_frozen_credentials()\n",
    "    except NoCredentialsError:\n",
    "        print(\"No se encontraron credenciales configuradas.\")\n",
    "    query=\"\"\"\n",
    "    CREATE OR REPLACE STAGE $stage_name\n",
    "    url='s3://$bucket'\n",
    "    credentials=(aws_key_id='$key' aws_secret_key='$secret');\n",
    "\"\"\"\n",
    "    query=query.replace('$key',current_credentials.access_key).replace('$secret',current_credentials.secret_key)\\\n",
    "        .replace(\"$stage_name\",stage_l).replace(\"$bucket\",bucket_n)\n",
    "    return query"
   ]
  },
  {
   "cell_type": "markdown",
   "id": "820f7a09-424b-476b-8649-0ae49eb7969a",
   "metadata": {},
   "source": [
    "### El stage es un objeto como una tabla por ende debe estar localizado en una base y un esquema"
   ]
  },
  {
   "cell_type": "code",
   "execution_count": null,
   "id": "fb07e63a-2adf-4329-bce1-3329eeab9f18",
   "metadata": {},
   "outputs": [],
   "source": [
    "stage_locate=\"MANAGE_DB.external_stages.aws_stage\"\n",
    "query=crear_stage_ext(stage_locate,bucket_name) #se genera el query para la creacion\n",
    "snoflak(query) # se crea el stage"
   ]
  },
  {
   "cell_type": "markdown",
   "id": "56df5bd2-6784-4458-831f-571f1c82c165",
   "metadata": {},
   "source": [
    "# Una vez creado el Stage se procedera a cargar los datos en la tabla"
   ]
  },
  {
   "cell_type": "code",
   "execution_count": null,
   "id": "773ff3af-f989-4fb1-b928-ee70b9926652",
   "metadata": {},
   "outputs": [],
   "source": [
    "# Se crea una funcio para armar el query \n",
    "def copy_to(stage,table,file_name):\n",
    "    query=\"\"\"\n",
    "COPY INTO $table_name\n",
    "    FROM @$stage\n",
    "    file_format= (type = csv field_delimiter=',' skip_header=1)\n",
    "    files = ('$file');\n",
    "\"\"\"\n",
    "    query=query.replace(\"$table_name\",table).replace(\"$file\",file_name).replace('$stage',stage)\n",
    "    \n",
    "    print(query)\n",
    "    return query"
   ]
  },
  {
   "cell_type": "code",
   "execution_count": null,
   "id": "e6f29bb3-4f68-498f-961c-e2b6350eacca",
   "metadata": {},
   "outputs": [],
   "source": [
    "query=copy_to(stage_locate,table_name,file_key)\n",
    "snoflak(query) # se carga la data\n"
   ]
  }
 ],
 "metadata": {
  "kernelspec": {
   "display_name": "Python 3 (ipykernel)",
   "language": "python",
   "name": "python3"
  },
  "language_info": {
   "codemirror_mode": {
    "name": "ipython",
    "version": 3
   },
   "file_extension": ".py",
   "mimetype": "text/x-python",
   "name": "python",
   "nbconvert_exporter": "python",
   "pygments_lexer": "ipython3",
   "version": "3.12.3"
  }
 },
 "nbformat": 4,
 "nbformat_minor": 5
}
