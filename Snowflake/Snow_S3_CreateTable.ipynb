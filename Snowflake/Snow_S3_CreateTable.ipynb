{
 "cells": [
  {
   "cell_type": "markdown",
   "id": "34d48504-cf38-4841-8301-89a83d31bd2c",
   "metadata": {},
   "source": [
    "# Python: Snowflake & S3 -Crear una Tabla-"
   ]
  },
  {
   "cell_type": "markdown",
   "id": "f89af9a7-8a35-49f2-9039-a329b5053947",
   "metadata": {},
   "source": [
    "## Introduccion"
   ]
  },
  {
   "cell_type": "markdown",
   "id": "3529e060-62fd-45ec-9edb-314c00528aa4",
   "metadata": {},
   "source": [
    "\n",
    "### Snowflake puede directamente crear tablas e importar la data desde S3, pero para crear la tabla se debe conocer la esctrutura del archivo, es decir se debe crear la tabla a mano. No se puede crear la tabla directamente desde la lectura del archivo desde S3 es decir no se puede hacer un select * into table_name from @S3_stage. \n",
    "### Lo que se pretende con este script es poder crear la tabla de forma dinamica, solo leyendo la cabecera del archivo.\n",
    "### En el siguiente diagrama se prensenta la arquitectura que se utilizara para crear una tabla en Snowflake desde un archivo alojado en S3."
   ]
  },
  {
   "attachments": {},
   "cell_type": "markdown",
   "id": "b53ae621-7018-4e66-b3ab-afd7ea196886",
   "metadata": {},
   "source": [
    "![Mi Imagen](snowflake.png)"
   ]
  },
  {
   "cell_type": "markdown",
   "id": "78505e57-44df-4d25-a183-e7152efe86fa",
   "metadata": {},
   "source": [
    "# Dependencias"
   ]
  },
  {
   "cell_type": "code",
   "execution_count": null,
   "id": "4ffeaede-aa2d-4107-a096-beae117b072e",
   "metadata": {},
   "outputs": [],
   "source": [
    "!pip install boto3\n",
    "!pip install snowflake-connector-python"
   ]
  },
  {
   "cell_type": "code",
   "execution_count": null,
   "id": "332b70b7-1696-4ac3-9b66-c5817d2ae260",
   "metadata": {},
   "outputs": [],
   "source": [
    "from snowflake.connector.pandas_tools import write_pandas\n",
    "import pandas as pd\n",
    "import snowflake.connector\n",
    "import boto3\n",
    "from io import BytesIO\n",
    "from botocore.exceptions import ClientError"
   ]
  },
  {
   "cell_type": "markdown",
   "id": "1f1405ae-68f1-465b-9cc6-3257831ed3c5",
   "metadata": {},
   "source": [
    "# Conexion a S3"
   ]
  },
  {
   "cell_type": "markdown",
   "id": "af0c22f8-e951-4220-bec7-47ca6b55cf3c",
   "metadata": {},
   "source": [
    "# Las varibles de interes son el nombre del bucket y el nombre del archivo (recuerda que para los procesos de python con AWS, debes de tener configurado el AWS CLI con tus credenciales el en tu equipo)"
   ]
  },
  {
   "cell_type": "code",
   "execution_count": null,
   "id": "997ce750-64b3-4464-8171-3276a78153df",
   "metadata": {},
   "outputs": [],
   "source": []
  }
 ],
 "metadata": {
  "kernelspec": {
   "display_name": "Python 3 (ipykernel)",
   "language": "python",
   "name": "python3"
  },
  "language_info": {
   "codemirror_mode": {
    "name": "ipython",
    "version": 3
   },
   "file_extension": ".py",
   "mimetype": "text/x-python",
   "name": "python",
   "nbconvert_exporter": "python",
   "pygments_lexer": "ipython3",
   "version": "3.12.3"
  }
 },
 "nbformat": 4,
 "nbformat_minor": 5
}
